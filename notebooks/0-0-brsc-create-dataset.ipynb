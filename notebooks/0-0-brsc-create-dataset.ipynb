{
 "cells": [
  {
   "cell_type": "markdown",
   "id": "f5c16e68-e20a-473c-9d0c-557314b32203",
   "metadata": {},
   "source": [
    "## Creating the dataset"
   ]
  },
  {
   "cell_type": "code",
   "execution_count": 43,
   "id": "f4e1aece-855e-4687-81d4-376da67545e2",
   "metadata": {},
   "outputs": [],
   "source": [
    "import os"
   ]
  },
  {
   "cell_type": "code",
   "execution_count": 44,
   "id": "fadf8ef6-ab1c-46a7-962c-512b61cff8b0",
   "metadata": {},
   "outputs": [],
   "source": [
    "base_path = \"../data/artmakeitsports/\"\n",
    "folders = [f'{base_path}{file}' for file in os.listdir(base_path)]"
   ]
  },
  {
   "cell_type": "code",
   "execution_count": 45,
   "id": "99514288-bb6c-4b62-bf0e-f66c86b246b2",
   "metadata": {},
   "outputs": [
    {
     "data": {
      "text/plain": [
       "['../data/artmakeitsports/right',\n",
       " '../data/artmakeitsports/top',\n",
       " '../data/artmakeitsports/bruno.jpg',\n",
       " '../data/artmakeitsports/image_test.jpeg',\n",
       " '../data/artmakeitsports/train',\n",
       " '../data/artmakeitsports/t.jpg',\n",
       " '../data/artmakeitsports/bruno.jpeg',\n",
       " '../data/artmakeitsports/validation',\n",
       " '../data/artmakeitsports/left',\n",
       " '../data/artmakeitsports/hugo.jpeg',\n",
       " '../data/artmakeitsports/datasets',\n",
       " '../data/artmakeitsports/bottom']"
      ]
     },
     "execution_count": 45,
     "metadata": {},
     "output_type": "execute_result"
    }
   ],
   "source": [
    "folders"
   ]
  },
  {
   "cell_type": "markdown",
   "id": "9e3b1185-7fa1-4eb5-996f-415fce3f1cf1",
   "metadata": {},
   "source": [
    "---"
   ]
  },
  {
   "cell_type": "code",
   "execution_count": 46,
   "id": "5c0519e8-bbfd-4f6b-ba4a-ae099de57598",
   "metadata": {},
   "outputs": [],
   "source": [
    "import numpy as np"
   ]
  },
  {
   "cell_type": "code",
   "execution_count": 47,
   "id": "9de6eb5e-0144-45e9-9eb0-faad01a94b66",
   "metadata": {},
   "outputs": [],
   "source": [
    "x = np.array([])\n",
    "for folder in [\"../data/artmakeitsports/right\", \"../data/artmakeitsports/top\"]:\n",
    "    x = np.append(x, np.array([f\"{folder}/{file}\" for file in os.listdir(folder)]))"
   ]
  },
  {
   "cell_type": "code",
   "execution_count": 48,
   "id": "f0b773aa-8a55-4fdf-926a-b822e8941526",
   "metadata": {},
   "outputs": [
    {
     "name": "stdout",
     "output_type": "stream",
     "text": [
      "/usr/bin/zsh: /home/rosilva/miniconda3/envs/lori/lib/libtinfo.so.6: no version information available (required by /usr/bin/zsh)\n",
      "bottom\t    bruno.jpg  hugo.jpeg\tleft   t.jpg  train\n",
      "bruno.jpeg  datasets   image_test.jpeg\tright  top    validation\n"
     ]
    }
   ],
   "source": [
    "!ls ../data/artmakeitsports/"
   ]
  },
  {
   "cell_type": "code",
   "execution_count": 49,
   "id": "b5fde846-d0ac-44f6-83e6-daa74aced018",
   "metadata": {},
   "outputs": [],
   "source": [
    "hugo = [\"../data/artmakeitsports/image_test.jpeg\"]"
   ]
  },
  {
   "cell_type": "code",
   "execution_count": 50,
   "id": "1f03d876-ed34-4465-961b-b2411aadf35f",
   "metadata": {},
   "outputs": [],
   "source": [
    "hugo = np.array([hugo, hugo])"
   ]
  },
  {
   "cell_type": "code",
   "execution_count": 51,
   "id": "4b28832b-fee1-4b6b-a8cc-773c8cab4219",
   "metadata": {},
   "outputs": [
    {
     "data": {
      "text/plain": [
       "array([['../data/artmakeitsports/image_test.jpeg'],\n",
       "       ['../data/artmakeitsports/image_test.jpeg']], dtype='<U39')"
      ]
     },
     "execution_count": 51,
     "metadata": {},
     "output_type": "execute_result"
    }
   ],
   "source": [
    "hugo"
   ]
  },
  {
   "cell_type": "code",
   "execution_count": 52,
   "id": "de89352d-6c8c-48ba-a255-f2362d8b8a56",
   "metadata": {},
   "outputs": [],
   "source": [
    "np.save(\"hugo\", hugo)"
   ]
  },
  {
   "cell_type": "code",
   "execution_count": 87,
   "id": "a219c737-049a-4dc1-9c56-0def8236139d",
   "metadata": {},
   "outputs": [
    {
     "data": {
      "text/plain": [
       "(663,)"
      ]
     },
     "execution_count": 87,
     "metadata": {},
     "output_type": "execute_result"
    }
   ],
   "source": [
    "x.shape"
   ]
  },
  {
   "cell_type": "code",
   "execution_count": 88,
   "id": "dde185c5-e754-4683-8f00-85311639249f",
   "metadata": {},
   "outputs": [],
   "source": [
    "y = np.array([ex.replace(\"right\", \"left\").replace(\"top\", \"bottom\") for ex in x])"
   ]
  },
  {
   "cell_type": "code",
   "execution_count": 89,
   "id": "47c27bef-e6d5-426c-9788-0b06ce6096e1",
   "metadata": {},
   "outputs": [
    {
     "data": {
      "text/plain": [
       "(663,)"
      ]
     },
     "execution_count": 89,
     "metadata": {},
     "output_type": "execute_result"
    }
   ],
   "source": [
    "y.shape"
   ]
  },
  {
   "cell_type": "code",
   "execution_count": 90,
   "id": "5068a082-b787-4cd7-a973-c91bbcba33e7",
   "metadata": {},
   "outputs": [],
   "source": [
    "dataset = np.array([x, y])"
   ]
  },
  {
   "cell_type": "code",
   "execution_count": 91,
   "id": "a8b81faf-1459-4549-9411-22951667c6c5",
   "metadata": {},
   "outputs": [
    {
     "data": {
      "text/plain": [
       "663"
      ]
     },
     "execution_count": 91,
     "metadata": {},
     "output_type": "execute_result"
    }
   ],
   "source": [
    "dataset.shape[1]"
   ]
  },
  {
   "cell_type": "code",
   "execution_count": 92,
   "id": "a599869f-d33f-4a7b-8772-1f2fdf50555d",
   "metadata": {},
   "outputs": [],
   "source": [
    "SPLIT = int(dataset.shape[1]*.8)\n",
    "TEST_SPLIT = SPLIT + int(dataset.shape[1]*.1)\n",
    "train = dataset[:,:SPLIT]\n",
    "validation = dataset[:,SPLIT:TEST_SPLIT]\n",
    "test = dataset[:,TEST_SPLIT:]"
   ]
  },
  {
   "cell_type": "code",
   "execution_count": 93,
   "id": "e41f40ad-0da6-43eb-b2c2-1f24283063b7",
   "metadata": {},
   "outputs": [
    {
     "data": {
      "text/plain": [
       "(2, 530)"
      ]
     },
     "execution_count": 93,
     "metadata": {},
     "output_type": "execute_result"
    }
   ],
   "source": [
    "train.shape"
   ]
  },
  {
   "cell_type": "code",
   "execution_count": 94,
   "id": "28d94611-15a0-4f9b-8920-b6765572125c",
   "metadata": {},
   "outputs": [
    {
     "data": {
      "text/plain": [
       "(2, 66)"
      ]
     },
     "execution_count": 94,
     "metadata": {},
     "output_type": "execute_result"
    }
   ],
   "source": [
    "validation.shape"
   ]
  },
  {
   "cell_type": "code",
   "execution_count": 95,
   "id": "aea0f3c6-ed5f-4f9a-97e9-1b4bbadae359",
   "metadata": {},
   "outputs": [
    {
     "data": {
      "text/plain": [
       "(2, 67)"
      ]
     },
     "execution_count": 95,
     "metadata": {},
     "output_type": "execute_result"
    }
   ],
   "source": [
    "test.shape"
   ]
  },
  {
   "cell_type": "code",
   "execution_count": 96,
   "id": "af13d764-0730-4afe-9711-5cd16035337d",
   "metadata": {},
   "outputs": [
    {
     "data": {
      "text/plain": [
       "'../data/artmakeitsports/'"
      ]
     },
     "execution_count": 96,
     "metadata": {},
     "output_type": "execute_result"
    }
   ],
   "source": [
    "base_path"
   ]
  },
  {
   "cell_type": "code",
   "execution_count": 98,
   "id": "b9a7971d-aa5d-4d08-9531-7596475fbc04",
   "metadata": {},
   "outputs": [],
   "source": [
    "os.mkdir(f\"{base_path}datasets\")"
   ]
  },
  {
   "cell_type": "code",
   "execution_count": 99,
   "id": "543b504e-1646-4c80-8e74-f42dc6251f66",
   "metadata": {},
   "outputs": [],
   "source": [
    "np.save(f\"{base_path}datasets/train\", train)\n",
    "np.save(f\"{base_path}datasets/validation\", validation)\n",
    "np.save(f\"{base_path}datasets/test\", test)"
   ]
  },
  {
   "cell_type": "code",
   "execution_count": null,
   "id": "17b6829d-2c2b-4635-8301-9c2c6e738446",
   "metadata": {},
   "outputs": [],
   "source": []
  }
 ],
 "metadata": {
  "kernelspec": {
   "display_name": "Python 3 (ipykernel)",
   "language": "python",
   "name": "python3"
  },
  "language_info": {
   "codemirror_mode": {
    "name": "ipython",
    "version": 3
   },
   "file_extension": ".py",
   "mimetype": "text/x-python",
   "name": "python",
   "nbconvert_exporter": "python",
   "pygments_lexer": "ipython3",
   "version": "3.10.12"
  }
 },
 "nbformat": 4,
 "nbformat_minor": 5
}
